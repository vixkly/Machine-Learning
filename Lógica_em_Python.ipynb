{
  "nbformat": 4,
  "nbformat_minor": 0,
  "metadata": {
    "colab": {
      "name": "Lógica em Python.ipynb",
      "provenance": [],
      "collapsed_sections": [
        "oFaTXZW-P8ic",
        "QUB8GnI0SLgz",
        "OTl6HqN1UX4z",
        "mZ8HE38PWlu6"
      ],
      "authorship_tag": "ABX9TyMOOwursg8zRwBfZWi8oXcN",
      "include_colab_link": true
    },
    "kernelspec": {
      "name": "python3",
      "display_name": "Python 3"
    }
  },
  "cells": [
    {
      "cell_type": "markdown",
      "metadata": {
        "id": "view-in-github",
        "colab_type": "text"
      },
      "source": [
        "<a href=\"https://colab.research.google.com/github/vixkly/pythoncollabory/blob/master/L%C3%B3gica_em_Python.ipynb\" target=\"_parent\"><img src=\"https://colab.research.google.com/assets/colab-badge.svg\" alt=\"Open In Colab\"/></a>"
      ]
    },
    {
      "cell_type": "markdown",
      "metadata": {
        "id": "oFaTXZW-P8ic",
        "colab_type": "text"
      },
      "source": [
        "#Lógica em Python\n"
      ]
    },
    {
      "cell_type": "code",
      "metadata": {
        "id": "ECOXi7JtPqqn",
        "colab_type": "code",
        "colab": {
          "base_uri": "https://localhost:8080/"
        },
        "outputId": "00697864-3445-4b22-c60a-12b35023cc8e"
      },
      "source": [
        "1 + 1"
      ],
      "execution_count": null,
      "outputs": [
        {
          "output_type": "execute_result",
          "data": {
            "text/plain": [
              "2"
            ]
          },
          "metadata": {
            "tags": []
          },
          "execution_count": 1
        }
      ]
    },
    {
      "cell_type": "code",
      "metadata": {
        "id": "8luPiR1iQAsa",
        "colab_type": "code",
        "colab": {
          "base_uri": "https://localhost:8080/"
        },
        "outputId": "57b03187-5b49-4d63-c30f-117ee9e035b3"
      },
      "source": [
        "\"Aline Rodrigues\""
      ],
      "execution_count": null,
      "outputs": [
        {
          "output_type": "execute_result",
          "data": {
            "application/vnd.google.colaboratory.intrinsic": {
              "type": "string"
            },
            "text/plain": [
              "'Aline Rodrigues'"
            ]
          },
          "metadata": {
            "tags": []
          },
          "execution_count": 2
        }
      ]
    },
    {
      "cell_type": "code",
      "metadata": {
        "id": "PzXFk-B3Q5Q-",
        "colab_type": "code",
        "colab": {}
      },
      "source": [
        "nome = 'Aline Rodrigus'"
      ],
      "execution_count": null,
      "outputs": []
    },
    {
      "cell_type": "code",
      "metadata": {
        "id": "LLvSYVa-Q7ur",
        "colab_type": "code",
        "colab": {
          "base_uri": "https://localhost:8080/"
        },
        "outputId": "87d7b841-5e48-4935-db8c-ce662cf3c9a6"
      },
      "source": [
        "nome"
      ],
      "execution_count": null,
      "outputs": [
        {
          "output_type": "execute_result",
          "data": {
            "application/vnd.google.colaboratory.intrinsic": {
              "type": "string"
            },
            "text/plain": [
              "'Aline Rodrigus'"
            ]
          },
          "metadata": {
            "tags": []
          },
          "execution_count": 4
        }
      ]
    },
    {
      "cell_type": "code",
      "metadata": {
        "id": "9_Cao6v7Q-lN",
        "colab_type": "code",
        "colab": {}
      },
      "source": [
        "idade = 30"
      ],
      "execution_count": null,
      "outputs": []
    },
    {
      "cell_type": "code",
      "metadata": {
        "id": "IS7ruRsBQ_zd",
        "colab_type": "code",
        "colab": {
          "base_uri": "https://localhost:8080/"
        },
        "outputId": "7fffa20a-8fc5-4896-be0b-646e68623fcf"
      },
      "source": [
        "idade"
      ],
      "execution_count": null,
      "outputs": [
        {
          "output_type": "execute_result",
          "data": {
            "text/plain": [
              "30"
            ]
          },
          "metadata": {
            "tags": []
          },
          "execution_count": 6
        }
      ]
    },
    {
      "cell_type": "code",
      "metadata": {
        "id": "LRoPFajgRA-f",
        "colab_type": "code",
        "colab": {
          "base_uri": "https://localhost:8080/"
        },
        "outputId": "26634bac-f238-4097-e40a-4affe8a982dc"
      },
      "source": [
        "print('O meu nome é Aline Rodrguies e minha idade é 22')"
      ],
      "execution_count": null,
      "outputs": [
        {
          "output_type": "stream",
          "text": [
            "O meu nome é Aline Rodrguies e minha idade é 22\n"
          ],
          "name": "stdout"
        }
      ]
    },
    {
      "cell_type": "code",
      "metadata": {
        "id": "zD-0RkYfRYZ3",
        "colab_type": "code",
        "colab": {
          "base_uri": "https://localhost:8080/"
        },
        "outputId": "61999188-f820-4f6d-d5db-a7047033b60a"
      },
      "source": [
        "print(f'O meu nome é {nome} e minha idade é {idade}')"
      ],
      "execution_count": null,
      "outputs": [
        {
          "output_type": "stream",
          "text": [
            "O meu nome é Aline Rodrigus e minha idade é 30\n"
          ],
          "name": "stdout"
        }
      ]
    },
    {
      "cell_type": "code",
      "metadata": {
        "id": "RAduTHrZR8YA",
        "colab_type": "code",
        "colab": {
          "base_uri": "https://localhost:8080/"
        },
        "outputId": "079565a2-62e8-41f7-e58a-b8d593b58610"
      },
      "source": [
        "idade = 23\n",
        "print(f'O meu nome é {nome} e minha idade é {idade}')"
      ],
      "execution_count": null,
      "outputs": [
        {
          "output_type": "stream",
          "text": [
            "O meu nome é Aline Rodrigus e minha idade é 23\n"
          ],
          "name": "stdout"
        }
      ]
    },
    {
      "cell_type": "code",
      "metadata": {
        "id": "TdqhFvSRR_gD",
        "colab_type": "code",
        "colab": {}
      },
      "source": [
        ""
      ],
      "execution_count": null,
      "outputs": []
    },
    {
      "cell_type": "markdown",
      "metadata": {
        "id": "QUB8GnI0SLgz",
        "colab_type": "text"
      },
      "source": [
        "#Criando minha primeira função\n"
      ]
    },
    {
      "cell_type": "code",
      "metadata": {
        "id": "1BWFVx_pSN7S",
        "colab_type": "code",
        "colab": {}
      },
      "source": [
        "def saudacao():\n",
        "  nome = input('Qual o seu nome? ')\n",
        "  print(f'Olá {nome}')"
      ],
      "execution_count": null,
      "outputs": []
    },
    {
      "cell_type": "code",
      "metadata": {
        "id": "zn2kZhnbSxqb",
        "colab_type": "code",
        "colab": {
          "base_uri": "https://localhost:8080/",
          "height": 53
        },
        "outputId": "0457db28-6919-4495-9f20-6df7fbf58cf0"
      },
      "source": [
        "saudacao()"
      ],
      "execution_count": null,
      "outputs": [
        {
          "output_type": "stream",
          "text": [
            "Qual o seu nome? Aline\n",
            "Olá Aline\n"
          ],
          "name": "stdout"
        }
      ]
    },
    {
      "cell_type": "code",
      "metadata": {
        "id": "qICowPcRS53N",
        "colab_type": "code",
        "colab": {}
      },
      "source": [
        ""
      ],
      "execution_count": null,
      "outputs": []
    },
    {
      "cell_type": "markdown",
      "metadata": {
        "id": "OTl6HqN1UX4z",
        "colab_type": "text"
      },
      "source": [
        "#Função nome completo\n"
      ]
    },
    {
      "cell_type": "code",
      "metadata": {
        "id": "267NqrmOUau1",
        "colab_type": "code",
        "colab": {}
      },
      "source": [
        "def nome_completo():\n",
        "  primeiro_nome = input('Qual é o seu primeiro nome? ')\n",
        "  sobrenome = input('E seu sobrenome? ')\n",
        "  nome_inteiro = primeiro_nome + ' ' + sobrenome\n",
        "  print(nome_inteiro)"
      ],
      "execution_count": null,
      "outputs": []
    },
    {
      "cell_type": "code",
      "metadata": {
        "id": "xvBlWaDfUuL4",
        "colab_type": "code",
        "colab": {
          "base_uri": "https://localhost:8080/",
          "height": 72
        },
        "outputId": "5844298c-8b93-4dd8-89a9-ffabe5390d39"
      },
      "source": [
        "nome_completo()"
      ],
      "execution_count": null,
      "outputs": [
        {
          "output_type": "stream",
          "text": [
            "Qual é o seu primeiro nome? Aline\n",
            "E seu sobrenome? Vitoria\n",
            "Aline Vitoria\n"
          ],
          "name": "stdout"
        }
      ]
    },
    {
      "cell_type": "markdown",
      "metadata": {
        "id": "F2WfXkWNWXd6",
        "colab_type": "text"
      },
      "source": [
        "#Parâmetros"
      ]
    },
    {
      "cell_type": "code",
      "metadata": {
        "id": "oGZFpGvmUwMi",
        "colab_type": "code",
        "colab": {}
      },
      "source": [
        "nome = 'Luiza'"
      ],
      "execution_count": null,
      "outputs": []
    },
    {
      "cell_type": "code",
      "metadata": {
        "id": "LDpXdVhyV1zE",
        "colab_type": "code",
        "colab": {}
      },
      "source": [
        "def saudacao_com_parametros(nome_da_pessoa):\n",
        "  print(f'Olá {nome_da_pessoa}')"
      ],
      "execution_count": null,
      "outputs": []
    },
    {
      "cell_type": "code",
      "metadata": {
        "id": "drlmqPSZWOtm",
        "colab_type": "code",
        "colab": {
          "base_uri": "https://localhost:8080/",
          "height": 35
        },
        "outputId": "5c23502b-fe76-4b48-8b9a-b1cd472df98f"
      },
      "source": [
        "saudacao_com_parametros(nome)"
      ],
      "execution_count": null,
      "outputs": [
        {
          "output_type": "stream",
          "text": [
            "Olá Luiza\n"
          ],
          "name": "stdout"
        }
      ]
    },
    {
      "cell_type": "code",
      "metadata": {
        "id": "jkbRP1LTWRSh",
        "colab_type": "code",
        "colab": {}
      },
      "source": [
        ""
      ],
      "execution_count": null,
      "outputs": []
    },
    {
      "cell_type": "markdown",
      "metadata": {
        "id": "mZ8HE38PWlu6",
        "colab_type": "text"
      },
      "source": [
        "#Condicional"
      ]
    },
    {
      "cell_type": "code",
      "metadata": {
        "id": "mCfPbCP-Wn2i",
        "colab_type": "code",
        "colab": {}
      },
      "source": [
        "idade = 15"
      ],
      "execution_count": null,
      "outputs": []
    },
    {
      "cell_type": "code",
      "metadata": {
        "id": "vvWvgXAwWqSC",
        "colab_type": "code",
        "colab": {
          "base_uri": "https://localhost:8080/",
          "height": 35
        },
        "outputId": "31ceee06-c3a3-4d39-c8ad-72424c5befdd"
      },
      "source": [
        "def cnh(idade):\n",
        "  if  idade >= 18:\n",
        "    print('Já pode tirar a cnh')\n",
        "  else:\n",
        "    print('NÃO pode tirar a cnh')\n",
        "\n",
        "cnh(idade)"
      ],
      "execution_count": null,
      "outputs": [
        {
          "output_type": "stream",
          "text": [
            "NÃO pode tirar a cnh\n"
          ],
          "name": "stdout"
        }
      ]
    },
    {
      "cell_type": "code",
      "metadata": {
        "id": "dfQFQCZkXPGn",
        "colab_type": "code",
        "colab": {
          "base_uri": "https://localhost:8080/",
          "height": 53
        },
        "outputId": "b8e03795-a503-4fba-e43e-cb0876da045a"
      },
      "source": [
        "def cnh_sem_parametros():\n",
        "  idade = input('Qual a sua idade? ')\n",
        "  idade = int(idade)   #Converte string para int\n",
        "\n",
        "  if  idade >=  18:\n",
        "    print('Já pode tirar a cnh')\n",
        "  else:\n",
        "    print('NÃO pode tirar a cnh')\n",
        "\n",
        "cnh_sem_parametros()"
      ],
      "execution_count": null,
      "outputs": [
        {
          "output_type": "stream",
          "text": [
            "Qual a sua idade? 0\n",
            "NÃO pode tirar a cnh\n"
          ],
          "name": "stdout"
        }
      ]
    },
    {
      "cell_type": "markdown",
      "metadata": {
        "id": "-qRKn5zeZFdm",
        "colab_type": "text"
      },
      "source": [
        "#Indo até a padaria"
      ]
    },
    {
      "cell_type": "code",
      "metadata": {
        "id": "PRVKXAN5X77d",
        "colab_type": "code",
        "colab": {}
      },
      "source": [
        "def velocidade(espaco, tempo):\n",
        "  velocidade = espaco / tempo\n",
        "  print(f'Velocidade é: {velocidade}')"
      ],
      "execution_count": null,
      "outputs": []
    },
    {
      "cell_type": "code",
      "metadata": {
        "id": "zSRZfB5AZmzr",
        "colab_type": "code",
        "colab": {
          "base_uri": "https://localhost:8080/",
          "height": 35
        },
        "outputId": "82c1e86f-4eca-4299-9aee-0fc33d056d30"
      },
      "source": [
        "espaco = 100\n",
        "tempo = 20\n",
        "\n",
        "velocidade(espaco, tempo)"
      ],
      "execution_count": null,
      "outputs": [
        {
          "output_type": "stream",
          "text": [
            "Velocidade é: 5.0\n"
          ],
          "name": "stdout"
        }
      ]
    },
    {
      "cell_type": "code",
      "metadata": {
        "id": "AQO1zehAZyzj",
        "colab_type": "code",
        "colab": {}
      },
      "source": [
        ""
      ],
      "execution_count": null,
      "outputs": []
    },
    {
      "cell_type": "markdown",
      "metadata": {
        "id": "Rv94xOIeblT6",
        "colab_type": "text"
      },
      "source": [
        "#Lista"
      ]
    },
    {
      "cell_type": "code",
      "metadata": {
        "id": "UN2tEXg7bnQY",
        "colab_type": "code",
        "colab": {
          "base_uri": "https://localhost:8080/",
          "height": 35
        },
        "outputId": "2155ebad-b749-4a38-eadd-a3dd3672fb22"
      },
      "source": [
        "idade = 22\n",
        "type(idade)"
      ],
      "execution_count": null,
      "outputs": [
        {
          "output_type": "execute_result",
          "data": {
            "text/plain": [
              "int"
            ]
          },
          "metadata": {
            "tags": []
          },
          "execution_count": 22
        }
      ]
    },
    {
      "cell_type": "code",
      "metadata": {
        "id": "Ke_ZcPQHbrC2",
        "colab_type": "code",
        "colab": {
          "base_uri": "https://localhost:8080/",
          "height": 35
        },
        "outputId": "160c9ab7-1619-4ce1-b575-ace6aadb4286"
      },
      "source": [
        "nome = 'Aline'\n",
        "type(nome)"
      ],
      "execution_count": null,
      "outputs": [
        {
          "output_type": "execute_result",
          "data": {
            "text/plain": [
              "str"
            ]
          },
          "metadata": {
            "tags": []
          },
          "execution_count": 23
        }
      ]
    },
    {
      "cell_type": "code",
      "metadata": {
        "id": "xBN5wvo7bvGq",
        "colab_type": "code",
        "colab": {
          "base_uri": "https://localhost:8080/",
          "height": 35
        },
        "outputId": "16f81bf0-7ee3-46fe-fe83-fb3d2fa6b36e"
      },
      "source": [
        "idades = [18, 22, 15, 50]\n",
        "#         0    1   2   3\n",
        "#         0   -3  -2  -1\n",
        "type(idades)"
      ],
      "execution_count": null,
      "outputs": [
        {
          "output_type": "execute_result",
          "data": {
            "text/plain": [
              "list"
            ]
          },
          "metadata": {
            "tags": []
          },
          "execution_count": 24
        }
      ]
    },
    {
      "cell_type": "code",
      "metadata": {
        "id": "zL1EQPeEb4TO",
        "colab_type": "code",
        "colab": {
          "base_uri": "https://localhost:8080/",
          "height": 35
        },
        "outputId": "844d5638-16bc-45cb-b2cf-b24ab61d0ab5"
      },
      "source": [
        "idades[2]"
      ],
      "execution_count": null,
      "outputs": [
        {
          "output_type": "execute_result",
          "data": {
            "text/plain": [
              "15"
            ]
          },
          "metadata": {
            "tags": []
          },
          "execution_count": 25
        }
      ]
    },
    {
      "cell_type": "code",
      "metadata": {
        "id": "14tJKkzgcJjw",
        "colab_type": "code",
        "colab": {
          "base_uri": "https://localhost:8080/",
          "height": 35
        },
        "outputId": "ef0faf50-e223-479a-98b9-9df95d957d03"
      },
      "source": [
        "idades[0:3]"
      ],
      "execution_count": null,
      "outputs": [
        {
          "output_type": "execute_result",
          "data": {
            "text/plain": [
              "[18, 22, 15]"
            ]
          },
          "metadata": {
            "tags": []
          },
          "execution_count": 26
        }
      ]
    },
    {
      "cell_type": "code",
      "metadata": {
        "id": "IGwOpNYLcbfw",
        "colab_type": "code",
        "colab": {
          "base_uri": "https://localhost:8080/",
          "height": 35
        },
        "outputId": "03fba4ca-765c-4382-8ca6-36591486537c"
      },
      "source": [
        "idades[2:]"
      ],
      "execution_count": null,
      "outputs": [
        {
          "output_type": "execute_result",
          "data": {
            "text/plain": [
              "[15, 50]"
            ]
          },
          "metadata": {
            "tags": []
          },
          "execution_count": 27
        }
      ]
    },
    {
      "cell_type": "code",
      "metadata": {
        "id": "6M9LBfrEceEF",
        "colab_type": "code",
        "colab": {
          "base_uri": "https://localhost:8080/",
          "height": 35
        },
        "outputId": "7238635a-4b8b-4409-8120-3515789c5cda"
      },
      "source": [
        "idades[-1]"
      ],
      "execution_count": null,
      "outputs": [
        {
          "output_type": "execute_result",
          "data": {
            "text/plain": [
              "50"
            ]
          },
          "metadata": {
            "tags": []
          },
          "execution_count": 28
        }
      ]
    },
    {
      "cell_type": "markdown",
      "metadata": {
        "id": "1L1ztk7DtlsS",
        "colab_type": "text"
      },
      "source": [
        "#Laços e loop\n",
        "\n"
      ]
    },
    {
      "cell_type": "code",
      "metadata": {
        "id": "CCKluTfnctjo",
        "colab_type": "code",
        "colab": {
          "base_uri": "https://localhost:8080/",
          "height": 35
        },
        "outputId": "559d9f75-6586-4dea-a956-b450d7000575"
      },
      "source": [
        "idades"
      ],
      "execution_count": null,
      "outputs": [
        {
          "output_type": "execute_result",
          "data": {
            "text/plain": [
              "[18, 22, 15, 50]"
            ]
          },
          "metadata": {
            "tags": []
          },
          "execution_count": 29
        }
      ]
    },
    {
      "cell_type": "code",
      "metadata": {
        "id": "pheI-hFhth-c",
        "colab_type": "code",
        "colab": {
          "base_uri": "https://localhost:8080/",
          "height": 90
        },
        "outputId": "966d8663-c566-4fa6-cbf7-4bc0c5e64a8a"
      },
      "source": [
        "def verifica(idade):\n",
        "  if idade >= 18:\n",
        "    print(f'{idade} anos. Tem permissão para dirigir')\n",
        "  else:\n",
        "    print(f'{idade} anos. Não pode dirigir!')\n",
        "\n",
        "for idade in idades:  #for fora da função\n",
        "  verifica(idade)\n"
      ],
      "execution_count": null,
      "outputs": [
        {
          "output_type": "stream",
          "text": [
            "18 anos. Tem permissão para dirigir\n",
            "22 anos. Tem permissão para dirigir\n",
            "15 anos. Não pode dirigir!\n",
            "50 anos. Tem permissão para dirigir\n"
          ],
          "name": "stdout"
        }
      ]
    },
    {
      "cell_type": "code",
      "metadata": {
        "id": "1iCbFjncuvb3",
        "colab_type": "code",
        "colab": {
          "base_uri": "https://localhost:8080/",
          "height": 90
        },
        "outputId": "4d7c8601-efa6-492b-f5ea-ef0866891b87"
      },
      "source": [
        "def verificaV1(idades):\n",
        "  for idade in idades:\n",
        "    if idade >= 18:\n",
        "      print(f'{idade} anos. Tem permissão para dirigir')\n",
        "    else:\n",
        "      print(f'{idade} anos. Não pode dirigir!')\n",
        "  \n",
        "verificaV1(idades)"
      ],
      "execution_count": null,
      "outputs": [
        {
          "output_type": "stream",
          "text": [
            "18 anos. Tem permissão para dirigir\n",
            "22 anos. Tem permissão para dirigir\n",
            "15 anos. Não pode dirigir!\n",
            "50 anos. Tem permissão para dirigir\n"
          ],
          "name": "stdout"
        }
      ]
    },
    {
      "cell_type": "markdown",
      "metadata": {
        "id": "iKiEE13vvcqc",
        "colab_type": "text"
      },
      "source": [
        "#Boleano"
      ]
    },
    {
      "cell_type": "code",
      "metadata": {
        "id": "TzsmGcb_veGd",
        "colab_type": "code",
        "colab": {
          "base_uri": "https://localhost:8080/",
          "height": 35
        },
        "outputId": "7917c1ca-6289-4082-c05a-4676d36da0ca"
      },
      "source": [
        "idade = 18\n",
        "idade >= 18"
      ],
      "execution_count": null,
      "outputs": [
        {
          "output_type": "execute_result",
          "data": {
            "text/plain": [
              "True"
            ]
          },
          "metadata": {
            "tags": []
          },
          "execution_count": 32
        }
      ]
    },
    {
      "cell_type": "code",
      "metadata": {
        "id": "-QF0_Xy9vniC",
        "colab_type": "code",
        "colab": {
          "base_uri": "https://localhost:8080/",
          "height": 35
        },
        "outputId": "ef462a9d-3747-44f8-ad2b-4efa6f5c76b1"
      },
      "source": [
        "idade =  18\n",
        "idade >= 20"
      ],
      "execution_count": null,
      "outputs": [
        {
          "output_type": "execute_result",
          "data": {
            "text/plain": [
              "False"
            ]
          },
          "metadata": {
            "tags": []
          },
          "execution_count": 33
        }
      ]
    },
    {
      "cell_type": "code",
      "metadata": {
        "id": "tnPt3C88vtIv",
        "colab_type": "code",
        "colab": {}
      },
      "source": [
        "permissoes = []\n",
        "idades =[12, 15, 50]\n",
        "\n",
        "def verificacao(idades, permissoes):\n",
        "  for idade in idades:\n",
        "    if idade >= 18:\n",
        "      permissoes.append(True)\n",
        "    else:\n",
        "      permissoes.append(False)\n",
        "\n",
        "verificacao(idades,permissoes)"
      ],
      "execution_count": null,
      "outputs": []
    },
    {
      "cell_type": "code",
      "metadata": {
        "id": "9ZXNyliHwNFH",
        "colab_type": "code",
        "colab": {
          "base_uri": "https://localhost:8080/",
          "height": 35
        },
        "outputId": "5e2da66a-b90c-43aa-bde6-540136812ca1"
      },
      "source": [
        "permissoes"
      ],
      "execution_count": null,
      "outputs": [
        {
          "output_type": "execute_result",
          "data": {
            "text/plain": [
              "[False, False, True]"
            ]
          },
          "metadata": {
            "tags": []
          },
          "execution_count": 35
        }
      ]
    },
    {
      "cell_type": "code",
      "metadata": {
        "id": "Koa5Oip4wO12",
        "colab_type": "code",
        "colab": {
          "base_uri": "https://localhost:8080/",
          "height": 72
        },
        "outputId": "6c230de0-cded-44d1-9cea-e204fbb5ebaa"
      },
      "source": [
        "for permissao in permissoes:\n",
        "  if permissao == True:\n",
        "    print('Tem permissão para dirigir')\n",
        "  else:\n",
        "    print('NÃO tem permissao')\n"
      ],
      "execution_count": null,
      "outputs": [
        {
          "output_type": "stream",
          "text": [
            "NÃO tem permissao\n",
            "NÃO tem permissao\n",
            "Tem permissão para dirigir\n"
          ],
          "name": "stdout"
        }
      ]
    },
    {
      "cell_type": "code",
      "metadata": {
        "id": "RmHihShdwlwp",
        "colab_type": "code",
        "colab": {}
      },
      "source": [
        ""
      ],
      "execution_count": null,
      "outputs": []
    },
    {
      "cell_type": "markdown",
      "metadata": {
        "id": "xxm6Ht0b4_5U",
        "colab_type": "text"
      },
      "source": [
        "#Tipos em lista"
      ]
    },
    {
      "cell_type": "code",
      "metadata": {
        "id": "DIplV0Te5CYG",
        "colab_type": "code",
        "colab": {
          "base_uri": "https://localhost:8080/",
          "height": 90
        },
        "outputId": "1be6bb5f-9657-48db-8a40-c4839907e956"
      },
      "source": [
        "lista = ['Aline', 22, True, '18']\n",
        "\n",
        "for elemento in lista:\n",
        "  print(f'O elemento {elemento} é do tipo: ', type(elemento))"
      ],
      "execution_count": null,
      "outputs": [
        {
          "output_type": "stream",
          "text": [
            "O elemento Aline é do tipo:  <class 'str'>\n",
            "O elemento 22 é do tipo:  <class 'int'>\n",
            "O elemento True é do tipo:  <class 'bool'>\n",
            "O elemento 18 é do tipo:  <class 'str'>\n"
          ],
          "name": "stdout"
        }
      ]
    },
    {
      "cell_type": "code",
      "metadata": {
        "id": "uq9g2TQF5bty",
        "colab_type": "code",
        "colab": {}
      },
      "source": [
        ""
      ],
      "execution_count": null,
      "outputs": []
    },
    {
      "cell_type": "markdown",
      "metadata": {
        "id": "0uW0MGDG6Xe8",
        "colab_type": "text"
      },
      "source": [
        "#Imports"
      ]
    },
    {
      "cell_type": "code",
      "metadata": {
        "id": "Ba6gjq3y6Zfc",
        "colab_type": "code",
        "colab": {}
      },
      "source": [
        "from random import randrange, seed"
      ],
      "execution_count": null,
      "outputs": []
    },
    {
      "cell_type": "code",
      "metadata": {
        "id": "g1KdOqZI7vDE",
        "colab_type": "code",
        "colab": {}
      },
      "source": [
        "seed(7)"
      ],
      "execution_count": null,
      "outputs": []
    },
    {
      "cell_type": "code",
      "metadata": {
        "id": "orAhoQCN6hcV",
        "colab_type": "code",
        "colab": {
          "base_uri": "https://localhost:8080/",
          "height": 35
        },
        "outputId": "07e6a87c-c0bc-4e6d-9fa6-65438264b626"
      },
      "source": [
        "randrange(0, 11)"
      ],
      "execution_count": null,
      "outputs": [
        {
          "output_type": "execute_result",
          "data": {
            "text/plain": [
              "5"
            ]
          },
          "metadata": {
            "tags": []
          },
          "execution_count": 7
        }
      ]
    },
    {
      "cell_type": "code",
      "metadata": {
        "id": "Dx1Y2v4k6yjM",
        "colab_type": "code",
        "colab": {
          "base_uri": "https://localhost:8080/",
          "height": 35
        },
        "outputId": "a348db05-938d-45ae-9026-86fe1ec61419"
      },
      "source": [
        "notas_matematica = []\n",
        "\n",
        "for notas in range(8):\n",
        "  notas_matematica.append(randrange(0, 11))\n",
        "\n",
        "notas_matematica"
      ],
      "execution_count": null,
      "outputs": [
        {
          "output_type": "execute_result",
          "data": {
            "text/plain": [
              "[2, 6, 10, 0, 1, 8, 1, 5]"
            ]
          },
          "metadata": {
            "tags": []
          },
          "execution_count": 8
        }
      ]
    },
    {
      "cell_type": "markdown",
      "metadata": {
        "id": "4Q85m4Muw92j",
        "colab_type": "text"
      },
      "source": [
        "#MatplotLib"
      ]
    },
    {
      "cell_type": "code",
      "metadata": {
        "id": "LZIDYrZoxATx",
        "colab_type": "code",
        "colab": {}
      },
      "source": [
        "import matplotlib.pyplot as plt"
      ],
      "execution_count": null,
      "outputs": []
    },
    {
      "cell_type": "code",
      "metadata": {
        "id": "4VJKo0XVxPgh",
        "colab_type": "code",
        "colab": {
          "base_uri": "https://localhost:8080/",
          "height": 295
        },
        "outputId": "2c6671ec-53fd-4bf5-88b6-bd990724d3ee"
      },
      "source": [
        "x = list(range(1, 9))\n",
        "y = notas_matematica\n",
        "plt.xlabel('PROVAS')\n",
        "plt.ylabel('NOTAS')\n",
        "plt.plot(x, y, marker='o')\n",
        "plt.title('Notas')\n",
        "plt.show()"
      ],
      "execution_count": null,
      "outputs": [
        {
          "output_type": "display_data",
          "data": {
            "image/png": "[encoded data removed]",
            "text/plain": [
              "<Figure size 432x288 with 1 Axes>"
            ]
          },
          "metadata": {
            "tags": [],
            "needs_background": "light"
          }
        }
      ]
    },
    {
      "cell_type": "code",
      "metadata": {
        "id": "jrOQ5X_LxpNu",
        "colab_type": "code",
        "colab": {
          "base_uri": "https://localhost:8080/",
          "height": 35
        },
        "outputId": "a432c05f-9073-457a-8f1c-b6bfa4fc28ac"
      },
      "source": [
        "notas_matematica"
      ],
      "execution_count": null,
      "outputs": [
        {
          "output_type": "execute_result",
          "data": {
            "text/plain": [
              "[2, 6, 10, 0, 1, 8, 1, 5]"
            ]
          },
          "metadata": {
            "tags": []
          },
          "execution_count": 17
        }
      ]
    }
  ]
}